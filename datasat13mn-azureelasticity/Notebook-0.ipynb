{
    "metadata": {
        "kernelspec": {
            "name": "SQL",
            "display_name": "SQL",
            "language": "sql"
        },
        "language_info": {
            "name": "sql",
            "version": ""
        }
    },
    "nbformat_minor": 2,
    "nbformat": 4,
    "cells": [
        {
            "cell_type": "markdown",
            "source": [
                "This is a sample notebook I'm testing with"
            ],
            "metadata": {
                "azdata_cell_guid": "1cf0ba82-5e47-49e4-81be-e4bf09718e7b"
            },
            "attachments": {}
        }
    ]
}