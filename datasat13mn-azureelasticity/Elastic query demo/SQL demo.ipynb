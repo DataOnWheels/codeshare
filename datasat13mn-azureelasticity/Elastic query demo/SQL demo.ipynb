{
    "metadata": {
        "kernelspec": {
            "name": "SQL",
            "display_name": "SQL",
            "language": "sql"
        },
        "language_info": {
            "name": "sql",
            "version": ""
        }
    },
    "nbformat_minor": 2,
    "nbformat": 4,
    "cells": [
        {
            "cell_type": "markdown",
            "source": [
                "This is the beginning of the SQL demo for the elastic query"
            ],
            "metadata": {
                "azdata_cell_guid": "343d8f76-b823-4ffc-a877-c569146a54f2"
            },
            "attachments": {}
        },
        {
            "cell_type": "code",
            "source": [
                "\r\n",
                "-- clean up demo environment\r\n",
                "-- remove tables\r\n",
                "if exists(select * from sys.external_tables where name = 'Fact_Purchase')\r\n",
                "  drop external table dbo.Fact_Purchase;\r\n",
                "go\r\n",
                "if exists(select * from sys.external_tables where name = 'dimDate')\r\n",
                "  drop external table dbo.dimDate;\r\n",
                "go\r\n",
                "if exists(select * from sys.external_tables where name = 'dimStockItem')\r\n",
                "  drop external table dbo.dimStockItem;\r\n",
                "go\r\n",
                "if exists(select * from sys.external_tables where name = 'dimSupplier')\r\n",
                "  drop external table dbo.dimSupplier;\r\n",
                "go\r\n",
                "-- remove data sources\r\n",
                "if exists(select * from sys.external_data_sources where name = 'dsWideWorldDW_2')\r\n",
                "  drop external data source dsWideWorldDW_2;\r\n",
                "go\r\n",
                "if exists(select * from sys.external_data_sources where name = 'dsWideWorldDW_3')\r\n",
                "  drop external data source dsWideWorldDW_3;\r\n",
                "go\r\n",
                "-- remove credentials\r\n",
                "if exists(select * from sys.database_scoped_credentials where name = 'elastic')\r\n",
                "  drop database scoped credential elastic;\r\n",
                " go\r\n",
                ""
            ],
            "metadata": {
                "azdata_cell_guid": "86195832-66ff-4eb4-ab30-ece64b4c5621",
                "language": "sql",
                "tags": []
            },
            "outputs": [
                {
                    "output_type": "display_data",
                    "data": {
                        "text/html": "Commands completed successfully."
                    },
                    "metadata": {}
                },
                {
                    "output_type": "display_data",
                    "data": {
                        "text/html": "Commands completed successfully."
                    },
                    "metadata": {}
                },
                {
                    "output_type": "display_data",
                    "data": {
                        "text/html": "Commands completed successfully."
                    },
                    "metadata": {}
                },
                {
                    "output_type": "display_data",
                    "data": {
                        "text/html": "Commands completed successfully."
                    },
                    "metadata": {}
                },
                {
                    "output_type": "display_data",
                    "data": {
                        "text/html": "Commands completed successfully."
                    },
                    "metadata": {}
                },
                {
                    "output_type": "display_data",
                    "data": {
                        "text/html": "Commands completed successfully."
                    },
                    "metadata": {}
                },
                {
                    "output_type": "display_data",
                    "data": {
                        "text/html": "Commands completed successfully."
                    },
                    "metadata": {}
                },
                {
                    "output_type": "display_data",
                    "data": {
                        "text/html": "Total execution time: 00:00:00.384"
                    },
                    "metadata": {}
                }
            ],
            "execution_count": 1
        },
        {
            "cell_type": "markdown",
            "source": [
                ""
            ],
            "metadata": {
                "azdata_cell_guid": "a4a0cb6f-6f0d-4afa-a775-12de64675617"
            }
        },
        {
            "cell_type": "code",
            "source": [
                ""
            ],
            "metadata": {
                "azdata_cell_guid": "f23c661c-4050-4c78-8a41-340cc2df9d5d",
                "language": "sql"
            },
            "outputs": [],
            "execution_count": null
        }
    ]
}