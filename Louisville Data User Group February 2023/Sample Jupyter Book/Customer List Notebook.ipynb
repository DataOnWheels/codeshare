{
    "metadata": {
        "kernelspec": {
            "name": "SQL",
            "display_name": "SQL",
            "language": "sql"
        },
        "language_info": {
            "name": "sql",
            "version": ""
        }
    },
    "nbformat_minor": 2,
    "nbformat": 4,
    "cells": [
        {
            "cell_type": "markdown",
            "source": [
                "This code returns a customer list"
            ],
            "metadata": {
                "azdata_cell_guid": "39b60ee2-13f3-4b14-b435-3b9faa75c4a7"
            },
            "attachments": {}
        },
        {
            "cell_type": "code",
            "source": [
                "SELECT * FROM Dimension.Customer"
            ],
            "metadata": {
                "azdata_cell_guid": "6121f861-355e-457f-8290-5e1c991c6d8f",
                "language": "sql"
            },
            "outputs": [],
            "execution_count": null
        }
    ]
}