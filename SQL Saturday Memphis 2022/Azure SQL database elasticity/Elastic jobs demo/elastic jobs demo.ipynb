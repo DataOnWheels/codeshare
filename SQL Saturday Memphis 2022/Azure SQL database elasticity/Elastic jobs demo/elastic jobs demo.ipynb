{
    "metadata": {
        "kernelspec": {
            "name": "SQL",
            "display_name": "SQL",
            "language": "sql"
        },
        "language_info": {
            "name": "sql",
            "version": ""
        }
    },
    "nbformat_minor": 2,
    "nbformat": 4,
    "cells": [
        {
            "cell_type": "markdown",
            "source": [
                "# Elastic job demo\n",
                "\n",
                "SETUP and EXECUTE Elastic Jobs on ElasticJobDb\n",
                "\n",
                "we will start by creating a master key in our database. If the key has already been created it will get an error, which is not a big deal."
            ],
            "metadata": {
                "azdata_cell_guid": "dbe1a417-fe20-41ff-b036-c4bf7cc801e8"
            },
            "attachments": {}
        },
        {
            "cell_type": "code",
            "source": [
                "create master key;"
            ],
            "metadata": {
                "azdata_cell_guid": "2337e1db-8d7c-4b04-94e1-c870becc394f",
                "language": "sql"
            },
            "outputs": [],
            "execution_count": 2
        },
        {
            "cell_type": "markdown",
            "source": [
                "Next we will add scoped credentials for the user databases and master database on the server"
            ],
            "metadata": {
                "azdata_cell_guid": "62c0a164-2a42-4419-90ff-598c08bd33fb"
            },
            "attachments": {}
        },
        {
            "cell_type": "code",
            "source": [
                "if not exists(select 1 from sys.database_scoped_credentials where name = 'elasticjob')\n",
                "  create database scoped credential elasticjob with identity = 'elasticjob', secret = 'PassMn2020!';\n",
                "GO\n",
                "\n",
                "if not exists(select 1 from sys.database_scoped_credentials where name = 'masterjob')\n",
                "  create database scoped credential masterjob with identity = 'masterjob', secret = 'PassMn2020!';\n",
                "GO"
            ],
            "metadata": {
                "azdata_cell_guid": "924ef51e-66bc-4084-9a20-75687497d7d4",
                "language": "sql"
            },
            "outputs": [],
            "execution_count": 3
        },
        {
            "cell_type": "markdown",
            "source": [
                "Following code cleans up jobs created in previous demos"
            ],
            "metadata": {
                "azdata_cell_guid": "ed785176-9888-45e4-bd7e-ba03ffdb1215"
            },
            "attachments": {}
        },
        {
            "cell_type": "code",
            "source": [
                "exec jobs.sp_delete_job @job_name = 'AddNewTableOrRowRightNow', @force=1;\n",
                "exec jobs.sp_delete_target_group @target_group_name = 'tgWideWorldDWs';\n",
                "exec jobs.sp_delete_job @job_name = 'AddGuidTable', @force=1;\n",
                "exec jobs.sp_delete_target_group @target_group_name = 'tgAllDbs';"
            ],
            "metadata": {
                "azdata_cell_guid": "3a708193-f956-4da9-9e75-53324f876078",
                "language": "sql"
            },
            "outputs": [],
            "execution_count": 4
        },
        {
            "cell_type": "markdown",
            "source": [
                "The next two code steps will create a new target group and add a single database to that group."
            ],
            "metadata": {
                "azdata_cell_guid": "e86533cc-4021-45b4-83a3-98c3d6216f31"
            },
            "attachments": {}
        },
        {
            "cell_type": "code",
            "source": [
                "exec jobs.sp_add_target_group 'tgWideWorldDWs';"
            ],
            "metadata": {
                "azdata_cell_guid": "6b6c7607-9dee-4e04-b7ff-40b3fa9e7e06",
                "language": "sql"
            },
            "outputs": [],
            "execution_count": 5
        },
        {
            "cell_type": "code",
            "source": [
                "exec jobs.sp_add_target_group_member \n",
                "\t@target_group_name = N'tgWideWorldDWs'\n",
                "\t,@target_type = N'SqlDatabase'\n",
                "\t,@server_name = N'<<servername>>.database.windows.net'\n",
                "\t,@database_name = N'WideWorldDW_1'\n",
                ";"
            ],
            "metadata": {
                "azdata_cell_guid": "45916f51-ce7e-43cd-8b58-0d364b9c2751",
                "language": "sql"
            },
            "outputs": [],
            "execution_count": 6
        },
        {
            "cell_type": "markdown",
            "source": [
                "Let's check the jobs tables for the group and group membership we just created"
            ],
            "metadata": {
                "azdata_cell_guid": "12f5e20c-1484-4de8-8226-c57bc7ee3c6a"
            },
            "attachments": {}
        },
        {
            "cell_type": "code",
            "source": [
                "select * from jobs.target_groups;\n",
                "select * from jobs.target_group_members where target_group_name = N'tgWideWorldDWs'"
            ],
            "metadata": {
                "azdata_cell_guid": "ed7def46-1c98-4311-9537-6d5b0c4e3a5d",
                "language": "sql"
            },
            "outputs": [],
            "execution_count": 7
        },
        {
            "cell_type": "markdown",
            "source": [
                "Let's add our first job. Reminder that a job is a placeholder for steps which we will add next."
            ],
            "metadata": {
                "azdata_cell_guid": "6f9881e0-506d-404b-ab27-445c3157413d"
            },
            "attachments": {}
        },
        {
            "cell_type": "code",
            "source": [
                "exec jobs.sp_add_job @job_name = 'AddNewTableOrRowRightNow'"
            ],
            "metadata": {
                "azdata_cell_guid": "a4bc5fce-a501-4ebf-b256-43fe6d9816ea",
                "language": "sql"
            },
            "outputs": [],
            "execution_count": 8
        },
        {
            "cell_type": "markdown",
            "source": [
                "Now that we have our job, we will add a step. This step will create a new table called new table in our target database."
            ],
            "metadata": {
                "language": "sql",
                "azdata_cell_guid": "0a6afb08-8aac-4f27-abc9-e2bd73418587"
            },
            "attachments": {}
        },
        {
            "cell_type": "code",
            "source": [
                "-- add a job step\r\n",
                "exec jobs.sp_add_jobstep \r\n",
                "\t@job_name = 'AddNewTableOrRowRightNow'\r\n",
                "\t, @command = 'if not exists (select 1 from sys.tables where object_id = object_id(''NewTable''))\r\n",
                "\t\t\t\t\tcreate table dbo.NewTable (col1 uniqueidentifier null,col2 datetime2(7) null);\r\n",
                "                    insert into dbo.NewTable values (NewID(), getdate()); '\r\n",
                "\t, @credential_name = 'elasticjob'\r\n",
                "\t, @target_group_name = 'tgWideWorldDWs'"
            ],
            "metadata": {
                "language": "sql",
                "azdata_cell_guid": "9213b1a2-2fdc-417c-9526-006ed356777f"
            },
            "outputs": [],
            "execution_count": 9
        },
        {
            "cell_type": "markdown",
            "source": [
                "We will use the following stored procedure to execute the job manually"
            ],
            "metadata": {
                "language": "sql",
                "azdata_cell_guid": "cdaf707a-31e7-4b75-a40a-34b0ea37eefe"
            },
            "attachments": {}
        },
        {
            "cell_type": "code",
            "source": [
                "-- manually execute the job\r\n",
                "exec jobs.sp_start_job 'AddNewTableOrRowRightNow'"
            ],
            "metadata": {
                "language": "sql",
                "azdata_cell_guid": "0dc3509e-8c15-47cc-b5f8-e5f6b0a7dc63"
            },
            "outputs": [],
            "execution_count": 10
        },
        {
            "cell_type": "markdown",
            "source": [
                "This next procedure will show you the job execution and current status"
            ],
            "metadata": {
                "language": "sql",
                "azdata_cell_guid": "71c0de48-6e4e-44e1-b067-53ed399be48b"
            },
            "attachments": {}
        },
        {
            "cell_type": "code",
            "source": [
                "-- check status of job executions\r\n",
                "select * from jobs.job_executions;"
            ],
            "metadata": {
                "language": "sql",
                "azdata_cell_guid": "ee68d1bd-db3c-40cd-8361-d407ced7aa05"
            },
            "outputs": [],
            "execution_count": 11
        },
        {
            "cell_type": "markdown",
            "source": [
                "Let's check the server listing and browse to the database to see the new table that was created.\n",
                "\n",
                "in our next step we will create a target group for a server"
            ],
            "metadata": {
                "azdata_cell_guid": "46851c3a-50e9-4efc-a6be-e851c1d275be"
            },
            "attachments": {}
        },
        {
            "cell_type": "code",
            "source": [
                "exec jobs.sp_add_target_group 'tgAllDbs';"
            ],
            "metadata": {
                "azdata_cell_guid": "f61bfb46-2f67-4a75-ad63-d4cba2db07e0",
                "language": "sql"
            },
            "outputs": [],
            "execution_count": 12
        },
        {
            "cell_type": "markdown",
            "source": [
                "In this step we will add the server to the target group that we created as the only member"
            ],
            "metadata": {
                "language": "sql",
                "azdata_cell_guid": "fb75fc8b-1f7e-4396-8796-54083b9ffb4f"
            },
            "attachments": {}
        },
        {
            "cell_type": "code",
            "source": [
                "exec jobs.sp_add_target_group_member \n",
                "\t@target_group_name = N'tgAllDbs'\n",
                "\t,@target_type = N'SqlServer'\n",
                "\t,@refresh_credential_name = N'masterjob' -- credential needed to view the current list of Dbs\n",
                "\t,@server_name = N'<<servername>>.database.windows.net'\n",
                ";"
            ],
            "metadata": {
                "azdata_cell_guid": "b3bbff1d-13fa-400e-bb7b-c34932dae7af",
                "language": "sql"
            },
            "outputs": [],
            "execution_count": 13
        },
        {
            "cell_type": "markdown",
            "source": [
                "Let's check out the job target groups to see what we added. Notice that the target type is SQL Server not a database."
            ],
            "metadata": {
                "azdata_cell_guid": "b2b87f4a-2ab4-4422-8ed3-1e3ba7b58497"
            },
            "attachments": {}
        },
        {
            "cell_type": "code",
            "source": [
                "select * from jobs.target_group_members where target_group_name = N'tgAllDbs'"
            ],
            "metadata": {
                "azdata_cell_guid": "745fc82a-7231-431a-b0d0-4b7111025171",
                "language": "sql"
            },
            "outputs": [],
            "execution_count": 14
        },
        {
            "cell_type": "markdown",
            "source": [
                "In this step we will add a job for next table"
            ],
            "metadata": {
                "azdata_cell_guid": "843e0ceb-e688-4bc1-a62e-9051c13f01b1"
            },
            "attachments": {}
        },
        {
            "cell_type": "code",
            "source": [
                "exec jobs.sp_add_job @job_name = 'AddGuidTable'"
            ],
            "metadata": {
                "azdata_cell_guid": "03e8dade-c0b3-4f4c-a799-6e0f62246dea",
                "language": "sql"
            },
            "outputs": [],
            "execution_count": 15
        },
        {
            "cell_type": "markdown",
            "source": [
                "Now we add a job step to create that table in all the databases on the server"
            ],
            "metadata": {
                "language": "sql",
                "azdata_cell_guid": "2ce977a2-819b-4a68-a518-cfccadd3b491"
            },
            "attachments": {}
        },
        {
            "cell_type": "code",
            "source": [
                "-- add a job step\r\n",
                "exec jobs.sp_add_jobstep \r\n",
                "\t@job_name = 'AddGuidTable'\r\n",
                "\t, @command = 'if not exists (select 1 from sys.tables where object_id = object_id(''GuidTable''))\r\n",
                "\t\t\t\t\tcreate table dbo.GuidTable (col1 uniqueidentifier null, col2 datetime2(7) null); \r\n",
                "                    insert into dbo.GuidTable values (NewID(), getdate()); '\r\n",
                "\t, @credential_name = 'elasticjob'\r\n",
                "\t, @target_group_name = 'tgAllDbs'"
            ],
            "metadata": {
                "language": "sql",
                "azdata_cell_guid": "6814b308-7d78-4f12-b3e0-f2ba43af3176",
                "tags": []
            },
            "outputs": [],
            "execution_count": 16
        },
        {
            "cell_type": "markdown",
            "source": [
                "Let's run the job manually"
            ],
            "metadata": {
                "language": "sql",
                "azdata_cell_guid": "dc4bb666-2120-4ec2-90cf-45ddbca6e7ee"
            },
            "attachments": {}
        },
        {
            "cell_type": "code",
            "source": [
                "-- manually execute the job\r\n",
                "exec jobs.sp_start_job 'AddGuidTable'"
            ],
            "metadata": {
                "azdata_cell_guid": "ec8ac073-2332-4ab8-b0cf-fa3092de789a",
                "language": "sql"
            },
            "outputs": [],
            "execution_count": 17
        },
        {
            "cell_type": "markdown",
            "source": [
                "Time to check our job status"
            ],
            "metadata": {
                "language": "sql",
                "azdata_cell_guid": "03ef8ca4-fa8f-45b3-92aa-cb1db75fd052"
            },
            "attachments": {}
        },
        {
            "cell_type": "code",
            "source": [
                "-- check status of job executions\r\n",
                "select * from jobs.job_executions where job_name = 'AddGuidTable';"
            ],
            "metadata": {
                "language": "sql",
                "azdata_cell_guid": "adff2cbc-eeec-415d-a7f4-f5d21df2179c"
            },
            "outputs": [],
            "execution_count": 19
        },
        {
            "cell_type": "markdown",
            "source": [
                "In the results above, you will see there are a couple failures. Those failures are due to the fact that not all of the databases are accessible to the identity we are using to execute the job. As a result the job will actually stay active while it waits for the substeps to continue or finish.\n",
                "\n",
                "This next query will return the active jobs With start time."
            ],
            "metadata": {
                "language": "sql",
                "azdata_cell_guid": "91b8ca28-e698-428a-b516-bf45c4c4e1d7"
            },
            "attachments": {}
        },
        {
            "cell_type": "code",
            "source": [
                "select * from jobs.job_executions where is_active = 1 and job_name = 'AddGuidTable'"
            ],
            "metadata": {
                "language": "sql",
                "azdata_cell_guid": "424222f5-b534-4e31-8e23-7acb95c2c843"
            },
            "outputs": [],
            "execution_count": 20
        },
        {
            "cell_type": "code",
            "source": [
                " order by start_time desc;"
            ],
            "metadata": {
                "language": "sql",
                "azdata_cell_guid": "c8c3d3cf-34b7-40f0-a550-80ed011a5d66"
            },
            "outputs": [],
            "execution_count": null
        },
        {
            "cell_type": "markdown",
            "source": [
                "Because we don't have the proper credentials, we need to cancel the job. We'll need to pull the active job execution ID from the query above and run the stop job stored procedure."
            ],
            "metadata": {
                "language": "sql",
                "azdata_cell_guid": "055c8c93-342a-4c38-a826-f3e957373bb3"
            },
            "attachments": {}
        },
        {
            "cell_type": "code",
            "source": [
                "-- because we don't have credentials set for one database we need to cancel. Use the following with the active job execution guid from the previous query\r\n",
                "DECLARE @job as varchar(100);\r\n",
                "select @job = job_execution_id from jobs.job_executions where is_active = 1 and job_name = 'AddGuidTable';\r\n",
                "SELECT @job;\r\n",
                "exec jobs.sp_stop_job @job;"
            ],
            "metadata": {
                "language": "sql",
                "azdata_cell_guid": "d303b2a0-7d7c-40d8-8f43-3cee228fbad3"
            },
            "outputs": [],
            "execution_count": 21
        },
        {
            "cell_type": "markdown",
            "source": [
                "The next query will actually exclude a database from our list on the server."
            ],
            "metadata": {
                "language": "sql",
                "azdata_cell_guid": "e133c060-62f7-431b-94ea-20443f6b8f51"
            },
            "attachments": {}
        },
        {
            "cell_type": "code",
            "source": [
                "-- check results -- need to run query on target databases\r\n",
                "\r\n",
                "-- exclude the problem databases\r\n",
                "exec jobs.sp_add_target_group_member\r\n",
                "\t@target_group_name = 'tgAllDbs'\r\n",
                "\t, @membership_type = 'Exclude'\r\n",
                "\t, @target_type = 'SQLDatabase'\r\n",
                "\t, @server_name = 'dataonwheels-eus-02.database.windows.net'\r\n",
                "\t, @database_name = 'WideWorldImportersDW-Standard'\r\n",
                ";"
            ],
            "metadata": {
                "language": "sql",
                "azdata_cell_guid": "e426e9a7-820f-4b90-b7db-3032223da99c"
            },
            "outputs": [],
            "execution_count": 22
        },
        {
            "cell_type": "markdown",
            "source": [
                "the job database is on the same server. The principal does not have permissions here either"
            ],
            "metadata": {
                "azdata_cell_guid": "e995773c-1398-476d-8c87-821d50e5b5cc"
            }
        },
        {
            "cell_type": "code",
            "source": [
                "exec jobs.sp_add_target_group_member\n",
                "\t@target_group_name = 'tgAllDbs'\n",
                "\t, @membership_type = 'Exclude'\n",
                "\t, @target_type = 'SQLDatabase'\n",
                "\t, @server_name = 'dataonwheels-eus-02.database.windows.net'\n",
                "\t, @database_name = 'ElasticJobDb'\n",
                ";"
            ],
            "metadata": {
                "azdata_cell_guid": "f7bffb6b-41d0-4b32-99b2-a91224bfeb9b",
                "language": "sql"
            },
            "outputs": [],
            "execution_count": 23
        },
        {
            "cell_type": "markdown",
            "source": [
                "Let's re execute the job and check the status"
            ],
            "metadata": {
                "azdata_cell_guid": "54b215c6-e060-43d9-87a4-aa81886d4a7f"
            },
            "attachments": {}
        },
        {
            "cell_type": "code",
            "source": [
                "exec jobs.sp_start_job 'AddGuidTable'"
            ],
            "metadata": {
                "azdata_cell_guid": "143f7358-e02f-4c9a-aa1b-6ec23b56f305",
                "language": "sql",
                "tags": []
            },
            "outputs": [],
            "execution_count": 24
        },
        {
            "cell_type": "code",
            "source": [
                "-- check status of job executions\r\n",
                "select * from jobs.job_executions where is_active = 1 and job_name = 'AddGuidTable' order by start_time desc;"
            ],
            "metadata": {
                "language": "sql",
                "azdata_cell_guid": "e78fad3a-0bf0-480b-89b3-91db33911c4a"
            },
            "outputs": [],
            "execution_count": 26
        },
        {
            "cell_type": "markdown",
            "source": [
                "As you can see in those results and by checking the server browser, we have added the tables to all of the targeted databases on the server. This concludes the demo for last jobs."
            ],
            "metadata": {
                "language": "sql",
                "azdata_cell_guid": "4725a4b4-8829-4706-8d94-99dfacb8e776"
            },
            "attachments": {}
        }
    ]
}