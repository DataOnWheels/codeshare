{
    "metadata": {
        "kernelspec": {
            "name": "SQL",
            "display_name": "SQL",
            "language": "sql"
        },
        "language_info": {
            "name": "sql",
            "version": ""
        }
    },
    "nbformat_minor": 2,
    "nbformat": 4,
    "cells": [
        {
            "cell_type": "code",
            "source": [
                "-- ======================================================================================\n",
                "-- Create SQL Login template for Azure SQL Database and Azure SQL Data Warehouse Database\n",
                "-- ======================================================================================\n",
                "-- RUN THIS ON MASTER\n",
                "CREATE LOGIN elasticuser\n",
                "	WITH PASSWORD = 'PassMn2020!' \n",
                "GO\n",
                "create login elasticjob\n",
                "	with password = 'PassMn2020!'\n",
                "go\n",
                "create login masterjob\n",
                "   with password = 'PassMn2020!'\n",
                "go\n",
                "-- add elastic job user for master database\n",
                "create user masterjob\n",
                "  for login masterjob\n",
                "  with default_schema = dbo\n",
                "go\n",
                "-- add user to database dbmanager role\n",
                "exec sp_addrolemember N'dbmanager', N'masterjob'\n",
                "go\n",
                ""
            ],
            "metadata": {
                "azdata_cell_guid": "4e93a8d3-13e2-49f4-8ac3-9f7f6153dd6d",
                "language": "sql"
            },
            "outputs": [],
            "execution_count": null
        }
    ]
}