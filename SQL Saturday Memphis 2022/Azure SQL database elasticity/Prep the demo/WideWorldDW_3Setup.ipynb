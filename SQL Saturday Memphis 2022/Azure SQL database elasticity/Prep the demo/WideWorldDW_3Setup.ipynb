{
    "metadata": {
        "kernelspec": {
            "name": "SQL",
            "display_name": "SQL",
            "language": "sql"
        },
        "language_info": {
            "name": "sql",
            "version": ""
        }
    },
    "nbformat_minor": 2,
    "nbformat": 4,
    "cells": [
        {
            "cell_type": "markdown",
            "source": [
                "******************************************************  \n",
                "The following script sets up WideWorldDW_3  \n",
                "  \n",
                "This will create the dimensions  \n",
                "******************************************************"
            ],
            "metadata": {
                "azdata_cell_guid": "d1b0a2fe-aee3-4ead-815d-7f76eda8f3c0"
            }
        },
        {
            "cell_type": "code",
            "source": [
                "CREATE USER elasticuser\n",
                "\tFOR LOGIN elasticuser\n",
                "\tWITH DEFAULT_SCHEMA = dbo"
            ],
            "metadata": {
                "azdata_cell_guid": "f88e6372-bd81-4b32-955a-020cef467b22",
                "language": "sql"
            },
            "outputs": [],
            "execution_count": null
        },
        {
            "cell_type": "markdown",
            "source": [
                "Add user to the database datareader role"
            ],
            "metadata": {
                "azdata_cell_guid": "4b200752-5fc0-4bf9-b375-b2a048a19831"
            }
        },
        {
            "cell_type": "code",
            "source": [
                "EXEC sp_addrolemember N'db_datareader', N'elasticuser'"
            ],
            "metadata": {
                "azdata_cell_guid": "404f2791-aa9c-401a-a46b-21f666ce1108",
                "language": "sql"
            },
            "outputs": [],
            "execution_count": null
        },
        {
            "cell_type": "markdown",
            "source": [
                "Add user to the database owner role to support use of sp_execute_remote"
            ],
            "metadata": {
                "azdata_cell_guid": "ef61a640-1895-483a-b540-8ccd2f6dae2a"
            }
        },
        {
            "cell_type": "code",
            "source": [
                "EXEC sp_droprolemember N'db_owner', N'elasticuser'"
            ],
            "metadata": {
                "azdata_cell_guid": "882b8b78-6883-4458-8873-b8684040b13f",
                "language": ""
            },
            "outputs": [],
            "execution_count": null
        },
        {
            "cell_type": "markdown",
            "source": [
                "add elastic job user"
            ],
            "metadata": {
                "azdata_cell_guid": "2e68c867-0ce4-43f9-b501-1451609225c9"
            }
        },
        {
            "cell_type": "code",
            "source": [
                "create user elasticjob\n",
                "  for login elasticjob\n",
                "  with default_schema = dbo"
            ],
            "metadata": {
                "azdata_cell_guid": "7a3453e1-bfa7-4c44-b6c8-01e95ebfbc63",
                "language": "sql"
            },
            "outputs": [],
            "execution_count": null
        },
        {
            "cell_type": "markdown",
            "source": [
                "add user to database owner role"
            ],
            "metadata": {
                "azdata_cell_guid": "450837a4-6779-401f-a160-2c303dccfb7e"
            }
        },
        {
            "cell_type": "code",
            "source": [
                "exec sp_addrolemember N'db_owner', N'elasticjob'"
            ],
            "metadata": {
                "azdata_cell_guid": "88d798ab-7025-4ecd-993a-81096ff052f8",
                "language": "sql"
            },
            "outputs": [],
            "execution_count": null
        },
        {
            "cell_type": "code",
            "source": [
                "if exists(select 1 from sys.tables where name like 'dimDate')\n",
                "\tdrop table dbo.dimDate;"
            ],
            "metadata": {
                "azdata_cell_guid": "ec7ccad7-3125-404d-94b0-edb6c3d05ff0",
                "language": "sql"
            },
            "outputs": [],
            "execution_count": null
        },
        {
            "cell_type": "code",
            "source": [
                "CREATE TABLE [dimDate](\n",
                "\t[Date] [date] NOT NULL,\n",
                "\t[Day Number] [int] NOT NULL,\n",
                "\t[Day] [nvarchar](10) NOT NULL,\n",
                "\t[Month] [nvarchar](10) NOT NULL,\n",
                "\t[Short Month] [nvarchar](3) NOT NULL,\n",
                "\t[Calendar Month Number] [int] NOT NULL,\n",
                "\t[Calendar Month Label] [nvarchar](20) NOT NULL,\n",
                "\t[Calendar Year] [int] NOT NULL,\n",
                "\t[Calendar Year Label] [nvarchar](10) NOT NULL,\n",
                "\t[Fiscal Month Number] [int] NOT NULL,\n",
                "\t[Fiscal Month Label] [nvarchar](20) NOT NULL,\n",
                "\t[Fiscal Year] [int] NOT NULL,\n",
                "\t[Fiscal Year Label] [nvarchar](10) NOT NULL,\n",
                "\t[ISO Week Number] [int] NOT NULL,\n",
                " CONSTRAINT [PK_dimDate] PRIMARY KEY CLUSTERED \n",
                "(\n",
                "\t[Date] ASC\n",
                ")WITH (STATISTICS_NORECOMPUTE = OFF, IGNORE_DUP_KEY = OFF) ON [PRIMARY]\n",
                ") ON [PRIMARY]"
            ],
            "metadata": {
                "azdata_cell_guid": "b8eecdee-dc6e-4b7d-8abd-a30b045bbe56",
                "language": "sql"
            },
            "outputs": [],
            "execution_count": null
        },
        {
            "cell_type": "code",
            "source": [
                "if exists(select 1 from sys.tables where name like 'dimStockItem')\n",
                "\tdrop table dbo.dimStockItem;"
            ],
            "metadata": {
                "azdata_cell_guid": "1fe3cd1d-e25b-4ea5-a12a-2489c9c6366f",
                "language": "sql"
            },
            "outputs": [],
            "execution_count": null
        },
        {
            "cell_type": "code",
            "source": [
                "CREATE TABLE [dimStockItem](\n",
                "\t[Stock Item Key] [int] NOT NULL,\n",
                "\t[WWI Stock Item ID] [int] NOT NULL,\n",
                "\t[Stock Item] [nvarchar](100) NOT NULL,\n",
                "\t[Color] [nvarchar](20) NOT NULL,\n",
                "\t[Selling Package] [nvarchar](50) NOT NULL,\n",
                "\t[Buying Package] [nvarchar](50) NOT NULL,\n",
                "\t[Brand] [nvarchar](50) NOT NULL,\n",
                "\t[Size] [nvarchar](20) NOT NULL,\n",
                "\t[Lead Time Days] [int] NOT NULL,\n",
                "\t[Quantity Per Outer] [int] NOT NULL,\n",
                "\t[Is Chiller Stock] [bit] NOT NULL,\n",
                "\t[Barcode] [nvarchar](50) NULL,\n",
                "\t[Tax Rate] [decimal](18, 3) NOT NULL,\n",
                "\t[Unit Price] [decimal](18, 2) NOT NULL,\n",
                "\t[Recommended Retail Price] [decimal](18, 2) NULL,\n",
                "\t[Typical Weight Per Unit] [decimal](18, 3) NOT NULL,\n",
                "\t[Photo] [varbinary](max) NULL,\n",
                "\t[Valid From] [datetime2](7) NOT NULL,\n",
                "\t[Valid To] [datetime2](7) NOT NULL,\n",
                "\t[Lineage Key] [int] NOT NULL,\n",
                " CONSTRAINT [PK_dimStockItem] PRIMARY KEY CLUSTERED \n",
                "(\n",
                "\t[Stock Item Key] ASC\n",
                ")WITH (STATISTICS_NORECOMPUTE = OFF, IGNORE_DUP_KEY = OFF) ON [PRIMARY]\n",
                ") ON [PRIMARY] TEXTIMAGE_ON [PRIMARY]"
            ],
            "metadata": {
                "azdata_cell_guid": "8742f9c4-bea0-4627-9d16-68c1f441f227",
                "language": "sql"
            },
            "outputs": [],
            "execution_count": null
        },
        {
            "cell_type": "code",
            "source": [
                "if exists(select 1 from sys.tables where name like 'dimSupplier')\n",
                "  drop table dimSupplier;"
            ],
            "metadata": {
                "azdata_cell_guid": "60616af9-6562-4c80-98c1-4ef98e8ae05d",
                "language": "sql"
            },
            "outputs": [],
            "execution_count": null
        },
        {
            "cell_type": "code",
            "source": [
                "CREATE TABLE [dimSupplier](\n",
                "\t[Supplier Key] [int] NOT NULL,\n",
                "\t[WWI Supplier ID] [int] NOT NULL,\n",
                "\t[Supplier] [nvarchar](100) NOT NULL,\n",
                "\t[Category] [nvarchar](50) NOT NULL,\n",
                "\t[Primary Contact] [nvarchar](50) NOT NULL,\n",
                "\t[Supplier Reference] [nvarchar](20) NULL,\n",
                "\t[Payment Days] [int] NOT NULL,\n",
                "\t[Postal Code] [nvarchar](10) NOT NULL,\n",
                "\t[Valid From] [datetime2](7) NOT NULL,\n",
                "\t[Valid To] [datetime2](7) NOT NULL,\n",
                "\t[Lineage Key] [int] NOT NULL,\n",
                " CONSTRAINT [PK_dimSupplier] PRIMARY KEY CLUSTERED \n",
                "(\n",
                "\t[Supplier Key] ASC\n",
                ")WITH (STATISTICS_NORECOMPUTE = OFF, IGNORE_DUP_KEY = OFF) ON [PRIMARY]\n",
                ") ON [PRIMARY]"
            ],
            "metadata": {
                "azdata_cell_guid": "6cb2758a-e357-49e2-8390-ddf48733e116",
                "language": "sql"
            },
            "outputs": [],
            "execution_count": null
        }
    ]
}