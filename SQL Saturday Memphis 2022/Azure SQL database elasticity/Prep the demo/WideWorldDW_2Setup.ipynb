{
    "metadata": {
        "kernelspec": {
            "name": "SQL",
            "display_name": "SQL",
            "language": "sql"
        },
        "language_info": {
            "name": "sql",
            "version": ""
        }
    },
    "nbformat_minor": 2,
    "nbformat": 4,
    "cells": [
        {
            "cell_type": "markdown",
            "source": [
                "******************************************************  \n",
                "The following script sets up WideWorldDW_2  \n",
                "  \n",
                "This database will support the fact tables for the vertical demo  \n",
                "  \n",
                "  \n",
                "******************************************************"
            ],
            "metadata": {
                "azdata_cell_guid": "dab7e202-f76c-4fc1-9193-5131d44750f2"
            }
        },
        {
            "cell_type": "markdown",
            "source": [
                "add for external access - elastic queries"
            ],
            "metadata": {
                "azdata_cell_guid": "78bb23ca-cc9b-4ccd-adac-39f5cafc55a9"
            }
        },
        {
            "cell_type": "code",
            "source": [
                "CREATE USER elasticuser\n",
                "\tFOR LOGIN elasticuser\n",
                "\tWITH DEFAULT_SCHEMA = dbo"
            ],
            "metadata": {
                "azdata_cell_guid": "c873584e-a702-405e-8534-ab7cffabdfd7",
                "language": "sql"
            },
            "outputs": [],
            "execution_count": null
        },
        {
            "cell_type": "markdown",
            "source": [
                "Add user to the database datareader role"
            ],
            "metadata": {
                "azdata_cell_guid": "42638dae-10e7-4621-92dd-e2aaae27cc35"
            }
        },
        {
            "cell_type": "code",
            "source": [
                "EXEC sp_addrolemember N'db_datareader', N'elasticuser'\n",
                "\n",
                "-- add elastic job user\n",
                "create user elasticjob\n",
                "  for login elasticjob\n",
                "  with default_schema = dbo"
            ],
            "metadata": {
                "azdata_cell_guid": "22fbed47-44fc-4793-a7f1-bfd3e40afc3c",
                "language": "sql"
            },
            "outputs": [],
            "execution_count": null
        },
        {
            "cell_type": "markdown",
            "source": [
                "add user to database owner role"
            ],
            "metadata": {
                "azdata_cell_guid": "915f5957-e7ef-456b-a068-a7f0c8dbb4bc"
            }
        },
        {
            "cell_type": "code",
            "source": [
                "exec sp_addrolemember N'db_owner', N'elasticjob'"
            ],
            "metadata": {
                "azdata_cell_guid": "bf2028f3-2aeb-4999-bd02-9b1423bea604",
                "language": "sql"
            },
            "outputs": [],
            "execution_count": null
        },
        {
            "cell_type": "markdown",
            "source": [
                "create Fact_Purchase table"
            ],
            "metadata": {
                "azdata_cell_guid": "c0426ba5-3b55-474b-a054-f597e81907c6"
            }
        },
        {
            "cell_type": "code",
            "source": [
                "if exists(select 1 from sys.tables where name like 'Fact_Purchase')\n",
                "  drop table dbo.Fact_Purchase;"
            ],
            "metadata": {
                "azdata_cell_guid": "9e7b82d3-a476-4743-b437-27bef665cbea",
                "language": "sql"
            },
            "outputs": [],
            "execution_count": null
        },
        {
            "cell_type": "code",
            "source": [
                "CREATE TABLE [Fact_Purchase](\n",
                "\t[Purchase Key] [bigint] IDENTITY(1,1) NOT NULL,\n",
                "\t[Date Key] [date] NOT NULL,\n",
                "\t[Supplier Key] [int] NOT NULL,\n",
                "\t[Stock Item Key] [int] NOT NULL,\n",
                "\t[WWI Purchase Order ID] [int] NULL,\n",
                "\t[Ordered Outers] [int] NOT NULL,\n",
                "\t[Ordered Quantity] [int] NOT NULL,\n",
                "\t[Received Outers] [int] NOT NULL,\n",
                "\t[Package] [nvarchar](50) NOT NULL,\n",
                "\t[Is Order Finalized] [bit] NOT NULL,\n",
                "\t[Lineage Key] [int] NOT NULL,\n",
                " CONSTRAINT [PK_FactPurchase] PRIMARY KEY CLUSTERED \n",
                "(\n",
                "\t[Purchase Key] ASC\n",
                ")WITH (STATISTICS_NORECOMPUTE = OFF, IGNORE_DUP_KEY = OFF) ON [PRIMARY]\n",
                ") ON [PRIMARY]"
            ],
            "metadata": {
                "azdata_cell_guid": "ed5f9d91-cb1c-4be3-a3d1-5ea6d08a6b92",
                "language": "sql"
            },
            "outputs": [],
            "execution_count": null
        }
    ]
}