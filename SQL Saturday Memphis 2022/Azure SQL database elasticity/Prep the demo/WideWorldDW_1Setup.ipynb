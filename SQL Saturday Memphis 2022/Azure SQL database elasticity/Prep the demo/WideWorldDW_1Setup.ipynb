{
    "metadata": {
        "kernelspec": {
            "name": "SQL",
            "display_name": "SQL",
            "language": "sql"
        },
        "language_info": {
            "name": "sql",
            "version": ""
        }
    },
    "nbformat_minor": 2,
    "nbformat": 4,
    "cells": [
        {
            "cell_type": "code",
            "source": [
                "/********************************************************\r\n",
                "The following script sets up WideWorldDW_1\r\n",
                "\r\n",
                "\r\n",
                "********************************************************/\r\n",
                "\r\n",
                "-- Master key is used to encrypt the credential (Azure does not require a password)\r\n",
                "create master key;\r\n",
                "go\r\n",
                "\r\n",
                "-- add elastic job user\r\n",
                "create user elasticjob\r\n",
                "  for login elasticjob\r\n",
                "  with default_schema = dbo\r\n",
                "go\r\n",
                "\r\n",
                "-- add user to database owner role\r\n",
                "exec sp_addrolemember N'db_owner', N'elasticjob'\r\n",
                "go\r\n",
                ""
            ],
            "metadata": {
                "azdata_cell_guid": "434a22aa-9ee8-4af2-8321-d4e3bafde9c0",
                "language": "sql"
            },
            "outputs": [],
            "execution_count": null
        }
    ]
}