{
    "metadata": {
        "kernelspec": {
            "name": "SQL",
            "display_name": "SQL",
            "language": "sql"
        },
        "language_info": {
            "name": "sql",
            "version": ""
        }
    },
    "nbformat_minor": 2,
    "nbformat": 4,
    "cells": [
        {
            "cell_type": "markdown",
            "source": [
                "# Elastic query demo\n",
                "\n",
                "If you have not already executed the prep notebooks for the demo you will need to do so prior to executing this code. The following code is intended to be run against WideWorldDW\\_1. The notebook is designed to be fully re-executed including the cleanup components in the first few steps. This will allow you the maximum flexibility when working with this notebook."
            ],
            "metadata": {
                "azdata_cell_guid": "308bb817-1d01-4ea5-8110-91b119b5f3e8"
            },
            "attachments": {}
        },
        {
            "cell_type": "markdown",
            "source": [
                "# Clean up the demo environment\n",
                "\n",
                "The demo scripts need a clean database environment to run in. This involves removing tables that would have been created during the demo process. The following code cell will remove those tables if they exist in preparation for rerunning the rest of the environment.\n",
                "\n",
                "There are three code cells included below which clean up items that will be created later on in the demo:\n",
                "\n",
                "- The first code cell will remove external tables if they exist\n",
                "- the second code cell will remove the data sources if they exist\n",
                "- The third code cell will remove any credentials if they exist"
            ],
            "metadata": {
                "azdata_cell_guid": "f1535749-cdd8-4cf7-855d-54a32add18b1"
            },
            "attachments": {}
        },
        {
            "cell_type": "code",
            "source": [
                "-- remove tables\r\n",
                "\r\n",
                "if exists(select * from sys.external_tables where name = 'Fact_Purchase')\r\n",
                "  drop external table dbo.Fact_Purchase;\r\n",
                "go\r\n",
                "if exists(select * from sys.external_tables where name = 'dimDate')\r\n",
                "  drop external table dbo.dimDate;\r\n",
                "go\r\n",
                "if exists(select * from sys.external_tables where name = 'dimStockItem')\r\n",
                "  drop external table dbo.dimStockItem;\r\n",
                "go\r\n",
                "if exists(select * from sys.external_tables where name = 'dimSupplier')\r\n",
                "  drop external table dbo.dimSupplier;\r\n",
                "go"
            ],
            "metadata": {
                "azdata_cell_guid": "89d95a09-0fbb-487a-a043-46d1a4eddde7",
                "language": "sql",
                "tags": []
            },
            "outputs": [],
            "execution_count": 1
        },
        {
            "cell_type": "code",
            "source": [
                "-- remove data sources\r\n",
                "if exists(select * from sys.external_data_sources where name = 'dsWideWorldDW_2')\r\n",
                "  drop external data source dsWideWorldDW_2;\r\n",
                "go\r\n",
                "if exists(select * from sys.external_data_sources where name = 'dsWideWorldDW_3')\r\n",
                "  drop external data source dsWideWorldDW_3;\r\n",
                "go"
            ],
            "metadata": {
                "azdata_cell_guid": "ad8e77bf-e3ad-4c7f-bb24-9fbadaad4a8f",
                "language": "sql"
            },
            "outputs": [],
            "execution_count": 2
        },
        {
            "cell_type": "code",
            "source": [
                "-- remove credentials\r\n",
                "if exists(select * from sys.database_scoped_credentials where name = 'elastic')\r\n",
                "  drop database scoped credential elastic;\r\n",
                " go"
            ],
            "metadata": {
                "language": "sql",
                "azdata_cell_guid": "d24faa57-e34e-4730-b917-edf1f3900f23",
                "tags": []
            },
            "outputs": [],
            "execution_count": 3
        },
        {
            "cell_type": "markdown",
            "source": [
                "Create a scoped credential which matches a user with read access on the target external databases \n",
                "\n",
                "NOTE: Currently AAD accounts are not supported for elastic queries"
            ],
            "metadata": {
                "language": "sql",
                "azdata_cell_guid": "8c15a92a-4eee-473d-8021-881d90da00c7"
            },
            "attachments": {}
        },
        {
            "cell_type": "code",
            "source": [
                "create database scoped credential elastic with identity = 'elasticuser', secret = 'PassMn2020!';\r\n",
                "go\r\n",
                ""
            ],
            "metadata": {
                "language": "sql",
                "azdata_cell_guid": "46d2761e-7f07-42c2-a2e3-0952f1cf3bc0"
            },
            "outputs": [],
            "execution_count": 4
        },
        {
            "cell_type": "markdown",
            "source": [
                "Next we create the external data source, we will create two as we will be working across two databases \n",
                "You will need to update the server name to the server name you are using in azure in the following code block"
            ],
            "metadata": {
                "language": "",
                "azdata_cell_guid": "217bd77f-dfe6-494b-8579-eb3574ca3105"
            },
            "attachments": {}
        },
        {
            "cell_type": "code",
            "source": [
                "create external data source dsWideWorldDW_2\r\n",
                "  with\r\n",
                "\t(\r\n",
                "\t\ttype=RDBMS,\r\n",
                "\t\tlocation='<<servername>>.database.windows.net',\r\n",
                "\t\tdatabase_name = 'WideWorldDW_2',\r\n",
                "\t\tcredential = elastic\r\n",
                "\t)\r\n",
                ";\r\n",
                "\r\n",
                "create external data source dsWideWorldDW_3\r\n",
                "  with\r\n",
                "\t(\r\n",
                "\t\ttype=RDBMS,\r\n",
                "\t\tlocation='<<servername>>.database.windows.net',\r\n",
                "\t\tdatabase_name = 'WideWorldDW_3',\r\n",
                "\t\tcredential = elastic\r\n",
                "\t)\r\n",
                ";\r\n",
                ""
            ],
            "metadata": {
                "language": "sql",
                "azdata_cell_guid": "5676e0d6-0c14-4de6-b3a3-9e29319181ff"
            },
            "outputs": [],
            "execution_count": 5
        },
        {
            "cell_type": "markdown",
            "source": [
                " Next we create the tables we want to connect to"
            ],
            "metadata": {
                "language": "",
                "azdata_cell_guid": "3945b57b-fe5a-4038-9330-5e487f35c7a2"
            },
            "attachments": {}
        },
        {
            "cell_type": "code",
            "source": [
                "\r\n",
                "create external table dbo.Fact_Purchase\r\n",
                "(\r\n",
                "\t[Purchase Key] bigint NOT NULL,\r\n",
                "\t[Date Key] date NOT NULL,\r\n",
                "\t[Supplier Key] int NOT NULL,\r\n",
                "\t[Stock Item Key] int NOT NULL,\r\n",
                "\t[WWI Purchase Order ID] int NULL,\r\n",
                "\t[Ordered Outers] int NOT NULL,\r\n",
                "\t[Ordered Quantity] int NOT NULL,\r\n",
                "\t[Received Outers] int NOT NULL,\r\n",
                "\t[Package] nvarchar(50) NOT NULL,\r\n",
                "\t[Is Order Finalized] bit NOT NULL\r\n",
                "\t--,\r\n",
                "\t--[Lineage Key] int NOT NULL\r\n",
                "\t)\r\n",
                "\twith (DATA_SOURCE = dsWideWorldDW_2)\r\n",
                ";"
            ],
            "metadata": {
                "language": "sql",
                "azdata_cell_guid": "ea8f4b90-9173-46d5-8243-8484d376e2eb",
                "tags": []
            },
            "outputs": [],
            "execution_count": 6
        },
        {
            "cell_type": "markdown",
            "source": [
                "Let's test the new external table and see the results."
            ],
            "metadata": {
                "language": "sql",
                "azdata_cell_guid": "1e816dcf-90c8-4937-a392-d8e6e3da8892"
            },
            "attachments": {}
        },
        {
            "cell_type": "code",
            "source": [
                "\r\n",
                "-- test the table\r\n",
                "select count(*) from dbo.Fact_Purchase;"
            ],
            "metadata": {
                "language": "sql",
                "azdata_cell_guid": "c186a8c3-57a0-46c8-9c1d-4cdfd7d35c3e",
                "tags": []
            },
            "outputs": [],
            "execution_count": 7
        },
        {
            "cell_type": "markdown",
            "source": [
                "Create the date dimension table"
            ],
            "metadata": {
                "azdata_cell_guid": "254deb93-7718-4d4d-9ae6-c4764ba24489"
            },
            "attachments": {}
        },
        {
            "cell_type": "code",
            "source": [
                "\r\n",
                "create external table [dbo].[dimDate](\r\n",
                "\t[Date] [date] NOT NULL,\r\n",
                "\t[Day Number] [int] NOT NULL,\r\n",
                "\t[Day] [nvarchar](10) NOT NULL,\r\n",
                "\t[Month] [nvarchar](10) NOT NULL,\r\n",
                "\t[Short Month] [nvarchar](3) NOT NULL,\r\n",
                "\t[Calendar Month Number] [int] NOT NULL,\r\n",
                "\t[Calendar Month Label] [nvarchar](20) NOT NULL,\r\n",
                "\t[Calendar Year] [int] NOT NULL,\r\n",
                "\t[Calendar Year Label] [nvarchar](10) NOT NULL,\r\n",
                "\t[Fiscal Month Number] [int] NOT NULL,\r\n",
                "\t[Fiscal Month Label] [nvarchar](20) NOT NULL,\r\n",
                "\t[Fiscal Year] [int] NOT NULL,\r\n",
                "\t[Fiscal Year Label] [nvarchar](10) NOT NULL,\r\n",
                "\t[ISO Week Number] [int] NOT NULL\r\n",
                "\t) \r\n",
                "\twith (data_source = dsWideWorldDW_3)\r\n",
                "; \r\n",
                "go\r\n",
                ""
            ],
            "metadata": {
                "language": "sql",
                "azdata_cell_guid": "c62c2451-512f-4b6b-8a69-ff16d880d250"
            },
            "outputs": [],
            "execution_count": 8
        },
        {
            "cell_type": "markdown",
            "source": [
                "Create the stock item table. Notice how we need to comment out the photo as that is not supported in elastic query."
            ],
            "metadata": {
                "azdata_cell_guid": "59d8ee1d-2b94-41b3-bbf1-3a8ae3cfd82a"
            },
            "attachments": {}
        },
        {
            "cell_type": "code",
            "source": [
                "\r\n",
                "create external table [dbo].[dimStockItem](\r\n",
                "\t[Stock Item Key] [int] NOT NULL,\r\n",
                "\t[WWI Stock Item ID] [int] NOT NULL,\r\n",
                "\t[Stock Item] [nvarchar](100) NOT NULL,\r\n",
                "\t[Color] [nvarchar](20) NOT NULL,\r\n",
                "\t[Selling Package] [nvarchar](50) NOT NULL,\r\n",
                "\t[Buying Package] [nvarchar](50) NOT NULL,\r\n",
                "\t[Brand] [nvarchar](50) NOT NULL,\r\n",
                "\t[Size] [nvarchar](20) NOT NULL,\r\n",
                "\t[Lead Time Days] [int] NOT NULL,\r\n",
                "\t[Quantity Per Outer] [int] NOT NULL,\r\n",
                "\t[Is Chiller Stock] [bit] NOT NULL,\r\n",
                "\t[Barcode] [nvarchar](50) NULL,\r\n",
                "\t[Tax Rate] [decimal](18, 3) NOT NULL,\r\n",
                "\t[Unit Price] [decimal](18, 2) NOT NULL,\r\n",
                "\t[Recommended Retail Price] [decimal](18, 2) NULL,\r\n",
                "\t[Typical Weight Per Unit] [decimal](18, 3) NOT NULL,\r\n",
                "--\t[Photo] [varbinary](max) NULL,  -- blob/binary types not supported with the exception of varchar/nvarchar(max)\r\n",
                "\t[Valid From] [datetime2](7) NOT NULL,\r\n",
                "\t[Valid To] [datetime2](7) NOT NULL,\r\n",
                "\t[Lineage Key] [int] NOT NULL\r\n",
                "\t)\r\n",
                "\twith (data_source = dsWideWorldDW_3)\r\n",
                ";\r\n",
                "go\r\n",
                ""
            ],
            "metadata": {
                "language": "sql",
                "azdata_cell_guid": "3960dab5-b8da-4116-bca8-34cf7eaa7b75"
            },
            "outputs": [],
            "execution_count": 9
        },
        {
            "cell_type": "markdown",
            "source": [
                "The final table we're going to create is the supplier dimension table. We will use this table to illustrate how we don't have to bring all fields over in our elastic query. These fields will still exist in the source table but will not be accessible in the external table created with elastic query."
            ],
            "metadata": {
                "azdata_cell_guid": "4d3b6a28-ea78-4214-aabf-d7438db92920"
            },
            "attachments": {}
        },
        {
            "cell_type": "code",
            "source": [
                "\r\n",
                "-- remove some of the available columns\r\n",
                "create external table [dbo].[dimSupplier](\r\n",
                "\t[Supplier Key] [int] NOT NULL,\r\n",
                "\t[WWI Supplier ID] [int] NOT NULL,\r\n",
                "\t[Supplier] [nvarchar](100) NOT NULL,\r\n",
                "\t[Category] [nvarchar](50) NOT NULL,\r\n",
                "\t--[Primary Contact] [nvarchar](50) NOT NULL,\r\n",
                "\t--[Supplier Reference] [nvarchar](20) NULL,\r\n",
                "\t--[Payment Days] [int] NOT NULL,\r\n",
                "\t[Postal Code] [nvarchar](10) NOT NULL\r\n",
                "\t--,\r\n",
                "--\t[Valid From] [datetime2](7) NOT NULL,\r\n",
                "--\t[Valid To] [datetime2](7) NOT NULL,\r\n",
                "--\t[Lineage Key] [int] NOT NULL\r\n",
                "\t)\r\n",
                "\twith (data_source = dsWideWorldDW_3)\r\n",
                "\r\n",
                ";\r\n",
                "\r\n",
                "go\r\n",
                "\r\n",
                ""
            ],
            "metadata": {
                "azdata_cell_guid": "d0bea1d1-9077-44fd-8608-e184354a3b8f",
                "language": "sql"
            },
            "outputs": [],
            "execution_count": 10
        },
        {
            "cell_type": "markdown",
            "source": [
                "As you can see in the select below, the columns we do not add to the external table will not show up in the column list for the external table."
            ],
            "metadata": {
                "azdata_cell_guid": "a35644fd-e650-4229-8598-3c205bf02fd0"
            },
            "attachments": {}
        },
        {
            "cell_type": "code",
            "source": [
                "-- columns removed from external table\r\n",
                "select * from dbo.dimSupplier;"
            ],
            "metadata": {
                "language": "sql",
                "azdata_cell_guid": "c8ed0cc3-02f4-4707-871b-f35c9b88ccd7"
            },
            "outputs": [],
            "execution_count": 11
        },
        {
            "cell_type": "markdown",
            "source": [
                "The following query attempts to pull a field that was not brought over at the external table and will result in an error."
            ],
            "metadata": {
                "azdata_cell_guid": "b1976475-0cbb-485b-86e6-4ecb6101fb8f"
            },
            "attachments": {}
        },
        {
            "cell_type": "code",
            "source": [
                "-- cannot be pulled through, this results in an error\r\n",
                "select [Payment Days] from dbo.dimSupplier;\r\n",
                ""
            ],
            "metadata": {
                "language": "sql",
                "azdata_cell_guid": "2747c386-d225-414b-85e6-34b1321f812d"
            },
            "outputs": [],
            "execution_count": 12
        },
        {
            "cell_type": "markdown",
            "source": [
                "This query example joins data from both of the databases used in the elastic query external tables. This illustrates the process of data virtualization which allows you to pull data from multiple databases bring them together into one result set using elastic query."
            ],
            "metadata": {
                "azdata_cell_guid": "e94754a9-5673-4a9e-bf2d-5c29482f4d8d"
            },
            "attachments": {}
        },
        {
            "cell_type": "code",
            "source": [
                "\r\n",
                "----- complex test\r\n",
                "\r\n",
                "select sum(f.[Ordered Quantity]) as [Total Quantity]\r\n",
                "\t, si.Brand\r\n",
                "\t, si.Color\r\n",
                "\t, su.Supplier\r\n",
                "\t, su.Category\r\n",
                "\t, d.[Calendar Year]\r\n",
                "from dbo.Fact_Purchase f\r\n",
                "\tinner join dbo.dimSupplier su on su.[Supplier Key] = f.[Supplier Key]\r\n",
                "\tinner join dbo.dimStockItem si on si.[Stock Item Key] = f.[Stock Item Key]\r\n",
                "\tinner join dbo.dimDate d on d.[Date] = f.[Date Key]\r\n",
                "where si.Color not like 'N/A'\r\n",
                "group by si.Brand\r\n",
                "\t, si.Color\r\n",
                "\t, su.Supplier\r\n",
                "\t, su.Category\r\n",
                "\t, d.[Calendar Year]\r\n",
                ";\r\n",
                "go\r\n",
                ""
            ],
            "metadata": {
                "language": "sql",
                "azdata_cell_guid": "0542e61e-7bc0-4daa-9c8b-0ce0c2247d50"
            },
            "outputs": [],
            "execution_count": 13
        },
        {
            "cell_type": "markdown",
            "source": [
                "You should not use external tables as a way to obscure columns for security reasons. The security is established via the credential used to set up the data source. Because of this, we can access the full table by using a remote execution query with the data source. It is recommended that you hide columns to simplify the data set not to secure it."
            ],
            "metadata": {
                "azdata_cell_guid": "6348a658-d2ae-47b0-98a8-a6250cb0c544"
            },
            "attachments": {}
        },
        {
            "cell_type": "code",
            "source": [
                "-- you can execute T-SQL directly as well with the sp_execute_remote; It uses the permissions of the credential\r\n",
                "\r\n",
                "exec sp_execute_remote N'dsWideWorldDW_3', N'select * from dbo.dimSupplier';\r\n",
                "go\r\n",
                ""
            ],
            "metadata": {
                "language": "sql",
                "azdata_cell_guid": "a446e7b1-fb73-401b-b318-bbeae578e377"
            },
            "outputs": [],
            "execution_count": 14
        },
        {
            "cell_type": "markdown",
            "source": [
                "This remote query shows access to the other database use in our demonstration."
            ],
            "metadata": {
                "azdata_cell_guid": "0078e708-12b1-4bc8-a8a4-12497fe60a8e"
            },
            "attachments": {}
        },
        {
            "cell_type": "code",
            "source": [
                "exec sp_execute_remote N'dsWideWorldDW_2', N'select * from dbo.Fact_Purchase';\n",
                "go\n",
                ""
            ],
            "metadata": {
                "language": "sql",
                "azdata_cell_guid": "7989ceb2-9819-4737-802f-70ec6f6e67f8"
            },
            "outputs": [],
            "execution_count": 15
        }
    ]
}